{
 "cells": [
  {
   "cell_type": "code",
   "execution_count": null,
   "metadata": {
    "collapsed": true
   },
   "outputs": [],
   "source": [
    "# Beat tracking example\n",
    "from __future__ import print_function\n",
    "import librosa.display\n",
    "import matplotlib.pyplot as plt\n",
    "import numpy as np\n",
    "\n",
    "# Default sampling parameters\n",
    "sampling_period = 2.0\n",
    "sampling_rate = 44100      # in Hz\n",
    "\n",
    "path = 'D:\\\\Desktop\\\\genre classification\\\\dataset\\\\blues\\\\blues.00001.au'\n",
    "\n",
    "duration = librosa.get_duration(filename=path)\n",
    "\n",
    "if (duration/2 + sampling_period) > duration:\n",
    "    print(\"Error. Duration of audio is too little\")\n",
    "    exit(1)\n",
    "\n",
    "y, sr = librosa.load(path=path, sr=sampling_rate, offset=duration/2, duration=sampling_period)\n",
    "\n",
    "Audio(y=y, sr=sr)"
   ]
  }
 ],
 "metadata": {
  "kernelspec": {
   "display_name": "Python 2",
   "language": "python",
   "name": "python2"
  },
  "language_info": {
   "codemirror_mode": {
    "name": "ipython",
    "version": 2
   },
   "file_extension": ".py",
   "mimetype": "text/x-python",
   "name": "python",
   "nbconvert_exporter": "python",
   "pygments_lexer": "ipython2",
   "version": "2.7.6"
  }
 },
 "nbformat": 4,
 "nbformat_minor": 0
}
